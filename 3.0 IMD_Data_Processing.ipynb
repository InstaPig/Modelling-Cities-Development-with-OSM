{
  "nbformat": 4,
  "nbformat_minor": 0,
  "metadata": {
    "colab": {
      "name": "IMD Data Processing.ipynb",
      "provenance": [],
      "collapsed_sections": []
    },
    "kernelspec": {
      "name": "python3",
      "display_name": "Python 3"
    },
    "language_info": {
      "name": "python"
    }
  },
  "cells": [
    {
      "cell_type": "code",
      "metadata": {
        "id": "Q59xp5_RSTu3"
      },
      "source": [
        "# Look up Table for LASO:Ward\n",
        "df = pd.concat(pd.read_excel('./gdrive/MyDrive/COMP0158/Deprivation Score/census-2011-oa-lookup-eng-0dd.xlsx', sheet_name=None), ignore_index=True)\n",
        "\n",
        "# IMD Data\n",
        "IMD_Data = pd.read_csv(\"./gdrive/MyDrive/COMP0158/Deprivation Score/Indices_of_Multiple_Deprivation_(IMD)_2019.csv\", index_col=None)\n",
        "\n",
        "IMD_Data_Mini = IMD_Data[[\"lsoa11cd\",\"IMDScore\"]]\n",
        "IMD_Data_Mini = IMD_Data_Mini.rename({\"lsoa11cd\":\"LSOA_CD\",\n",
        "                                      \"IMDScore\":\"IMD Score\"}, axis='columns')\n",
        "\n",
        "IMD_Data_Mini = IMD_Data_Mini.merge(df, how='left', left_on='LSOA_CD', right_on='LSOA11CD')\n",
        "IMD_Data_Mini = pd.DataFrame(IMD_Data_Mini.groupby(['wd11nm']).mean().to_records())\n",
        "IMD_Data_Mini = IMD_Data_Mini.rename({'wd11nm':\"name\"}, axis='columns')\n",
        "\n",
        "# Save File\n",
        "IMD_Data_Mini.to_csv(\"IMD_ENG_2.csv\")"
      ],
      "execution_count": null,
      "outputs": []
    }
  ]
}