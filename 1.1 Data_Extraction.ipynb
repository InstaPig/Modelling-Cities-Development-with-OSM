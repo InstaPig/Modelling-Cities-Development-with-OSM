{
  "nbformat": 4,
  "nbformat_minor": 0,
  "metadata": {
    "colab": {
      "name": "Data Extraction.ipynb",
      "provenance": [],
      "collapsed_sections": []
    },
    "kernelspec": {
      "name": "python3",
      "display_name": "Python 3"
    },
    "language_info": {
      "name": "python"
    }
  },
  "cells": [
    {
      "cell_type": "markdown",
      "source": [
        "# README"
      ],
      "metadata": {
        "id": "hzykhyCS_A1C"
      }
    },
    {
      "cell_type": "markdown",
      "source": [
        "There are a few things we need to notice before we go on:\n",
        "\n",
        "1. **Dataset download**: https://www.geofabrik.de\n",
        "\n",
        "* To accsess the OpenStreetMap hitorical data, please follow the link suggested above, the region could be selected upon download. For example, if you would like to explore London, you may simply download the data for London and save it in Local/Google drive.\n",
        "\n",
        "* The file dowloaded would be in osh.pbf format, which will be used for our data extraction, it includes all information about nodes, ways and relations within a specific region. In this example, we will focus on how to do the data extraction by looking at nodes only.\n",
        "\n",
        "* Specifically, we will look at all nodes contain the information about amenity, and retrieve the entire editing history to understand how amenity has evolved from time to time in a city (here we look at London).\n",
        "\n",
        "2. **Data Extraction**:\n",
        "\n",
        "* After extrating the data, it is highly recommended to save the extracted tabular data for further analysis, as the compuational time for retrieving is relatively expensive."
      ],
      "metadata": {
        "id": "NcmJ8Z4f6QWR"
      }
    },
    {
      "cell_type": "markdown",
      "source": [
        "# Connect to Google Drive"
      ],
      "metadata": {
        "id": "CsJZhJdp50fP"
      }
    },
    {
      "cell_type": "code",
      "execution_count": 1,
      "metadata": {
        "colab": {
          "base_uri": "https://localhost:8080/"
        },
        "id": "zKJk3KtN5Eav",
        "outputId": "c2e567b9-fa90-49ca-b45d-635ccc213b4b"
      },
      "outputs": [
        {
          "output_type": "stream",
          "name": "stdout",
          "text": [
            "Mounted at /content/gdrive/\n"
          ]
        }
      ],
      "source": [
        "from google.colab import drive\n",
        "drive.mount('/content/gdrive/')"
      ]
    },
    {
      "cell_type": "markdown",
      "source": [
        "# Set-up"
      ],
      "metadata": {
        "id": "tTCETV0A6ATi"
      }
    },
    {
      "cell_type": "code",
      "source": [
        "# Install required packages\n",
        "!pip install osmium"
      ],
      "metadata": {
        "colab": {
          "base_uri": "https://localhost:8080/"
        },
        "id": "IIA3CLFE5eWI",
        "outputId": "ba141c02-8e28-4ef0-ae5c-9da0c2d100a8"
      },
      "execution_count": 3,
      "outputs": [
        {
          "output_type": "stream",
          "name": "stdout",
          "text": [
            "Collecting osmium\n",
            "  Downloading osmium-3.3.0-cp37-cp37m-manylinux_2_12_x86_64.manylinux2010_x86_64.whl (1.3 MB)\n",
            "\u001b[?25l\r\u001b[K     |▎                               | 10 kB 14.7 MB/s eta 0:00:01\r\u001b[K     |▌                               | 20 kB 19.9 MB/s eta 0:00:01\r\u001b[K     |▊                               | 30 kB 23.6 MB/s eta 0:00:01\r\u001b[K     |█                               | 40 kB 24.2 MB/s eta 0:00:01\r\u001b[K     |█▎                              | 51 kB 20.5 MB/s eta 0:00:01\r\u001b[K     |█▌                              | 61 kB 21.8 MB/s eta 0:00:01\r\u001b[K     |█▉                              | 71 kB 23.1 MB/s eta 0:00:01\r\u001b[K     |██                              | 81 kB 21.2 MB/s eta 0:00:01\r\u001b[K     |██▎                             | 92 kB 22.4 MB/s eta 0:00:01\r\u001b[K     |██▌                             | 102 kB 23.9 MB/s eta 0:00:01\r\u001b[K     |██▉                             | 112 kB 23.9 MB/s eta 0:00:01\r\u001b[K     |███                             | 122 kB 23.9 MB/s eta 0:00:01\r\u001b[K     |███▎                            | 133 kB 23.9 MB/s eta 0:00:01\r\u001b[K     |███▋                            | 143 kB 23.9 MB/s eta 0:00:01\r\u001b[K     |███▉                            | 153 kB 23.9 MB/s eta 0:00:01\r\u001b[K     |████                            | 163 kB 23.9 MB/s eta 0:00:01\r\u001b[K     |████▍                           | 174 kB 23.9 MB/s eta 0:00:01\r\u001b[K     |████▋                           | 184 kB 23.9 MB/s eta 0:00:01\r\u001b[K     |████▉                           | 194 kB 23.9 MB/s eta 0:00:01\r\u001b[K     |█████                           | 204 kB 23.9 MB/s eta 0:00:01\r\u001b[K     |█████▍                          | 215 kB 23.9 MB/s eta 0:00:01\r\u001b[K     |█████▋                          | 225 kB 23.9 MB/s eta 0:00:01\r\u001b[K     |█████▉                          | 235 kB 23.9 MB/s eta 0:00:01\r\u001b[K     |██████▏                         | 245 kB 23.9 MB/s eta 0:00:01\r\u001b[K     |██████▍                         | 256 kB 23.9 MB/s eta 0:00:01\r\u001b[K     |██████▋                         | 266 kB 23.9 MB/s eta 0:00:01\r\u001b[K     |██████▉                         | 276 kB 23.9 MB/s eta 0:00:01\r\u001b[K     |███████▏                        | 286 kB 23.9 MB/s eta 0:00:01\r\u001b[K     |███████▍                        | 296 kB 23.9 MB/s eta 0:00:01\r\u001b[K     |███████▋                        | 307 kB 23.9 MB/s eta 0:00:01\r\u001b[K     |████████                        | 317 kB 23.9 MB/s eta 0:00:01\r\u001b[K     |████████▏                       | 327 kB 23.9 MB/s eta 0:00:01\r\u001b[K     |████████▍                       | 337 kB 23.9 MB/s eta 0:00:01\r\u001b[K     |████████▊                       | 348 kB 23.9 MB/s eta 0:00:01\r\u001b[K     |█████████                       | 358 kB 23.9 MB/s eta 0:00:01\r\u001b[K     |█████████▏                      | 368 kB 23.9 MB/s eta 0:00:01\r\u001b[K     |█████████▍                      | 378 kB 23.9 MB/s eta 0:00:01\r\u001b[K     |█████████▊                      | 389 kB 23.9 MB/s eta 0:00:01\r\u001b[K     |██████████                      | 399 kB 23.9 MB/s eta 0:00:01\r\u001b[K     |██████████▏                     | 409 kB 23.9 MB/s eta 0:00:01\r\u001b[K     |██████████▌                     | 419 kB 23.9 MB/s eta 0:00:01\r\u001b[K     |██████████▊                     | 430 kB 23.9 MB/s eta 0:00:01\r\u001b[K     |███████████                     | 440 kB 23.9 MB/s eta 0:00:01\r\u001b[K     |███████████▎                    | 450 kB 23.9 MB/s eta 0:00:01\r\u001b[K     |███████████▌                    | 460 kB 23.9 MB/s eta 0:00:01\r\u001b[K     |███████████▊                    | 471 kB 23.9 MB/s eta 0:00:01\r\u001b[K     |████████████                    | 481 kB 23.9 MB/s eta 0:00:01\r\u001b[K     |████████████▎                   | 491 kB 23.9 MB/s eta 0:00:01\r\u001b[K     |████████████▌                   | 501 kB 23.9 MB/s eta 0:00:01\r\u001b[K     |████████████▊                   | 512 kB 23.9 MB/s eta 0:00:01\r\u001b[K     |█████████████                   | 522 kB 23.9 MB/s eta 0:00:01\r\u001b[K     |█████████████▎                  | 532 kB 23.9 MB/s eta 0:00:01\r\u001b[K     |█████████████▌                  | 542 kB 23.9 MB/s eta 0:00:01\r\u001b[K     |█████████████▊                  | 552 kB 23.9 MB/s eta 0:00:01\r\u001b[K     |██████████████                  | 563 kB 23.9 MB/s eta 0:00:01\r\u001b[K     |██████████████▎                 | 573 kB 23.9 MB/s eta 0:00:01\r\u001b[K     |██████████████▌                 | 583 kB 23.9 MB/s eta 0:00:01\r\u001b[K     |██████████████▉                 | 593 kB 23.9 MB/s eta 0:00:01\r\u001b[K     |███████████████                 | 604 kB 23.9 MB/s eta 0:00:01\r\u001b[K     |███████████████▎                | 614 kB 23.9 MB/s eta 0:00:01\r\u001b[K     |███████████████▋                | 624 kB 23.9 MB/s eta 0:00:01\r\u001b[K     |███████████████▉                | 634 kB 23.9 MB/s eta 0:00:01\r\u001b[K     |████████████████                | 645 kB 23.9 MB/s eta 0:00:01\r\u001b[K     |████████████████▎               | 655 kB 23.9 MB/s eta 0:00:01\r\u001b[K     |████████████████▋               | 665 kB 23.9 MB/s eta 0:00:01\r\u001b[K     |████████████████▉               | 675 kB 23.9 MB/s eta 0:00:01\r\u001b[K     |█████████████████               | 686 kB 23.9 MB/s eta 0:00:01\r\u001b[K     |█████████████████▍              | 696 kB 23.9 MB/s eta 0:00:01\r\u001b[K     |█████████████████▋              | 706 kB 23.9 MB/s eta 0:00:01\r\u001b[K     |█████████████████▉              | 716 kB 23.9 MB/s eta 0:00:01\r\u001b[K     |██████████████████▏             | 727 kB 23.9 MB/s eta 0:00:01\r\u001b[K     |██████████████████▍             | 737 kB 23.9 MB/s eta 0:00:01\r\u001b[K     |██████████████████▋             | 747 kB 23.9 MB/s eta 0:00:01\r\u001b[K     |██████████████████▉             | 757 kB 23.9 MB/s eta 0:00:01\r\u001b[K     |███████████████████▏            | 768 kB 23.9 MB/s eta 0:00:01\r\u001b[K     |███████████████████▍            | 778 kB 23.9 MB/s eta 0:00:01\r\u001b[K     |███████████████████▋            | 788 kB 23.9 MB/s eta 0:00:01\r\u001b[K     |████████████████████            | 798 kB 23.9 MB/s eta 0:00:01\r\u001b[K     |████████████████████▏           | 808 kB 23.9 MB/s eta 0:00:01\r\u001b[K     |████████████████████▍           | 819 kB 23.9 MB/s eta 0:00:01\r\u001b[K     |████████████████████▋           | 829 kB 23.9 MB/s eta 0:00:01\r\u001b[K     |█████████████████████           | 839 kB 23.9 MB/s eta 0:00:01\r\u001b[K     |█████████████████████▏          | 849 kB 23.9 MB/s eta 0:00:01\r\u001b[K     |█████████████████████▍          | 860 kB 23.9 MB/s eta 0:00:01\r\u001b[K     |█████████████████████▊          | 870 kB 23.9 MB/s eta 0:00:01\r\u001b[K     |██████████████████████          | 880 kB 23.9 MB/s eta 0:00:01\r\u001b[K     |██████████████████████▏         | 890 kB 23.9 MB/s eta 0:00:01\r\u001b[K     |██████████████████████▌         | 901 kB 23.9 MB/s eta 0:00:01\r\u001b[K     |██████████████████████▊         | 911 kB 23.9 MB/s eta 0:00:01\r\u001b[K     |███████████████████████         | 921 kB 23.9 MB/s eta 0:00:01\r\u001b[K     |███████████████████████▏        | 931 kB 23.9 MB/s eta 0:00:01\r\u001b[K     |███████████████████████▌        | 942 kB 23.9 MB/s eta 0:00:01\r\u001b[K     |███████████████████████▊        | 952 kB 23.9 MB/s eta 0:00:01\r\u001b[K     |████████████████████████        | 962 kB 23.9 MB/s eta 0:00:01\r\u001b[K     |████████████████████████▎       | 972 kB 23.9 MB/s eta 0:00:01\r\u001b[K     |████████████████████████▌       | 983 kB 23.9 MB/s eta 0:00:01\r\u001b[K     |████████████████████████▊       | 993 kB 23.9 MB/s eta 0:00:01\r\u001b[K     |█████████████████████████       | 1.0 MB 23.9 MB/s eta 0:00:01\r\u001b[K     |█████████████████████████▎      | 1.0 MB 23.9 MB/s eta 0:00:01\r\u001b[K     |█████████████████████████▌      | 1.0 MB 23.9 MB/s eta 0:00:01\r\u001b[K     |█████████████████████████▊      | 1.0 MB 23.9 MB/s eta 0:00:01\r\u001b[K     |██████████████████████████      | 1.0 MB 23.9 MB/s eta 0:00:01\r\u001b[K     |██████████████████████████▎     | 1.1 MB 23.9 MB/s eta 0:00:01\r\u001b[K     |██████████████████████████▌     | 1.1 MB 23.9 MB/s eta 0:00:01\r\u001b[K     |██████████████████████████▉     | 1.1 MB 23.9 MB/s eta 0:00:01\r\u001b[K     |███████████████████████████     | 1.1 MB 23.9 MB/s eta 0:00:01\r\u001b[K     |███████████████████████████▎    | 1.1 MB 23.9 MB/s eta 0:00:01\r\u001b[K     |███████████████████████████▌    | 1.1 MB 23.9 MB/s eta 0:00:01\r\u001b[K     |███████████████████████████▉    | 1.1 MB 23.9 MB/s eta 0:00:01\r\u001b[K     |████████████████████████████    | 1.1 MB 23.9 MB/s eta 0:00:01\r\u001b[K     |████████████████████████████▎   | 1.1 MB 23.9 MB/s eta 0:00:01\r\u001b[K     |████████████████████████████▋   | 1.1 MB 23.9 MB/s eta 0:00:01\r\u001b[K     |████████████████████████████▉   | 1.2 MB 23.9 MB/s eta 0:00:01\r\u001b[K     |█████████████████████████████   | 1.2 MB 23.9 MB/s eta 0:00:01\r\u001b[K     |█████████████████████████████▍  | 1.2 MB 23.9 MB/s eta 0:00:01\r\u001b[K     |█████████████████████████████▋  | 1.2 MB 23.9 MB/s eta 0:00:01\r\u001b[K     |█████████████████████████████▉  | 1.2 MB 23.9 MB/s eta 0:00:01\r\u001b[K     |██████████████████████████████  | 1.2 MB 23.9 MB/s eta 0:00:01\r\u001b[K     |██████████████████████████████▍ | 1.2 MB 23.9 MB/s eta 0:00:01\r\u001b[K     |██████████████████████████████▋ | 1.2 MB 23.9 MB/s eta 0:00:01\r\u001b[K     |██████████████████████████████▉ | 1.2 MB 23.9 MB/s eta 0:00:01\r\u001b[K     |███████████████████████████████▏| 1.2 MB 23.9 MB/s eta 0:00:01\r\u001b[K     |███████████████████████████████▍| 1.3 MB 23.9 MB/s eta 0:00:01\r\u001b[K     |███████████████████████████████▋| 1.3 MB 23.9 MB/s eta 0:00:01\r\u001b[K     |████████████████████████████████| 1.3 MB 23.9 MB/s eta 0:00:01\r\u001b[K     |████████████████████████████████| 1.3 MB 23.9 MB/s \n",
            "\u001b[?25hRequirement already satisfied: requests in /usr/local/lib/python3.7/dist-packages (from osmium) (2.23.0)\n",
            "Requirement already satisfied: urllib3!=1.25.0,!=1.25.1,<1.26,>=1.21.1 in /usr/local/lib/python3.7/dist-packages (from requests->osmium) (1.24.3)\n",
            "Requirement already satisfied: idna<3,>=2.5 in /usr/local/lib/python3.7/dist-packages (from requests->osmium) (2.10)\n",
            "Requirement already satisfied: certifi>=2017.4.17 in /usr/local/lib/python3.7/dist-packages (from requests->osmium) (2021.10.8)\n",
            "Requirement already satisfied: chardet<4,>=3.0.2 in /usr/local/lib/python3.7/dist-packages (from requests->osmium) (3.0.4)\n",
            "Installing collected packages: osmium\n",
            "Successfully installed osmium-3.3.0\n"
          ]
        }
      ]
    },
    {
      "cell_type": "markdown",
      "source": [
        "# Data Extraction"
      ],
      "metadata": {
        "id": "L-fsht6N6Ian"
      }
    },
    {
      "cell_type": "markdown",
      "source": [
        "## Defining the osm Handler for feature extration"
      ],
      "metadata": {
        "id": "jBwVAXCx8Sk5"
      }
    },
    {
      "cell_type": "code",
      "source": [
        "import osmium as osm\n",
        "import pandas as pd\n",
        "\n",
        "# Defining the Handler to extract all the wanted informations\n",
        "# (Type; id; Version; Timestamp; Latitude/Longitude; Amenity type.)\n",
        "# If we want to extract other type of features(such as office, aeroway), \n",
        "# we may change the 'amenity' within the tag part to the wanted feature.\n",
        "\n",
        "\n",
        "\n",
        "class TimelineHandler(osm.SimpleHandler):\n",
        "    \"\"\"\n",
        "    This TimeLineHanler will provide the entire editing history about every\n",
        "    node that represents an amenity within the input file.\n",
        "    \"\"\"\n",
        "    def __init__(self):\n",
        "        osm.SimpleHandler.__init__(self)\n",
        "        self.elemtimeline = []\n",
        "        \n",
        "    def node(self, n):\n",
        "        # amenity has a name\n",
        "        if 'amenity' in n.tags and 'name' in n.tags:\n",
        "            self.elemtimeline.append([\"node\",\n",
        "                                      n.id,\n",
        "                                      n.version,\n",
        "                                      pd.Timestamp(n.timestamp),\n",
        "                                      n.location.lat,\n",
        "                                      n.location.lon,\n",
        "                                      n.tags[\"amenity\"],\n",
        "                                      n.tags[\"name\"]])\n",
        "        # amenity has no name\n",
        "        elif 'amenity' in n.tags:\n",
        "            self.elemtimeline.append([\"node\",\n",
        "                                      n.id,\n",
        "                                      n.version,\n",
        "                                      pd.Timestamp(n.timestamp),\n",
        "                                      n.location.lat,\n",
        "                                      n.location.lon,\n",
        "                                      n.tags[\"amenity\"],\n",
        "                                      \"N/A\"])"
      ],
      "metadata": {
        "id": "flvCG-eC6HTp"
      },
      "execution_count": 5,
      "outputs": []
    },
    {
      "cell_type": "markdown",
      "source": [
        "## Extract the info and Transform into Tabular Format"
      ],
      "metadata": {
        "id": "7DKbemOS_UFD"
      }
    },
    {
      "cell_type": "code",
      "source": [
        "tlhandler = TimelineHandler()\n",
        "\n",
        "# change file name to the OSM data download for the specific place under study\n",
        "file_name = \"./gdrive/MyDrive/Target Folder/greater-london-internal.osh.pbf\"\n",
        "\n",
        "tlhandler.apply_file(file_name)\n",
        "\n",
        "# Transforming the extracted data into a dataframe for further manipulations\n",
        "colnames = ['type','id','Version','TS',\"Lat\",\"Lon\",'amenity','name']\n",
        "elements = pd.DataFrame(tlhandler.elemtimeline, columns=colnames)\n",
        "elements = elements.sort_values(by=['type','TS'],ascending=False)\n",
        "elements = elements.reset_index(drop=True)"
      ],
      "metadata": {
        "id": "-0Phwtmg-jW7"
      },
      "execution_count": 7,
      "outputs": []
    },
    {
      "cell_type": "code",
      "source": [
        "elements.head()"
      ],
      "metadata": {
        "colab": {
          "base_uri": "https://localhost:8080/",
          "height": 206
        },
        "id": "0A04Xtvs_GMA",
        "outputId": "05db7646-566f-4888-c7a6-984f5f13d371"
      },
      "execution_count": 9,
      "outputs": [
        {
          "output_type": "execute_result",
          "data": {
            "text/plain": [
              "   type          id  Version                        TS        Lat       Lon  \\\n",
              "0  node   185743749        7 2021-05-09 23:14:56+00:00  51.550833 -0.138445   \n",
              "1  node   303198052        3 2021-05-09 23:14:56+00:00  51.550804 -0.140390   \n",
              "2  node  8715968899        1 2021-05-09 23:14:56+00:00  51.550761 -0.135600   \n",
              "3  node  8716017943        1 2021-05-09 23:14:56+00:00  51.550776 -0.140567   \n",
              "4  node  8716017952        1 2021-05-09 23:14:56+00:00  51.550088 -0.140706   \n",
              "\n",
              "           amenity                               name  \n",
              "0         post_box                                N/A  \n",
              "1  bicycle_parking                                N/A  \n",
              "2  public_bookcase  Leighton Road Community Book Swap  \n",
              "3  bicycle_parking                                N/A  \n",
              "4     waste_basket                                N/A  "
            ],
            "text/html": [
              "\n",
              "  <div id=\"df-eeadf394-6a94-49ad-b0be-f571325f0125\">\n",
              "    <div class=\"colab-df-container\">\n",
              "      <div>\n",
              "<style scoped>\n",
              "    .dataframe tbody tr th:only-of-type {\n",
              "        vertical-align: middle;\n",
              "    }\n",
              "\n",
              "    .dataframe tbody tr th {\n",
              "        vertical-align: top;\n",
              "    }\n",
              "\n",
              "    .dataframe thead th {\n",
              "        text-align: right;\n",
              "    }\n",
              "</style>\n",
              "<table border=\"1\" class=\"dataframe\">\n",
              "  <thead>\n",
              "    <tr style=\"text-align: right;\">\n",
              "      <th></th>\n",
              "      <th>type</th>\n",
              "      <th>id</th>\n",
              "      <th>Version</th>\n",
              "      <th>TS</th>\n",
              "      <th>Lat</th>\n",
              "      <th>Lon</th>\n",
              "      <th>amenity</th>\n",
              "      <th>name</th>\n",
              "    </tr>\n",
              "  </thead>\n",
              "  <tbody>\n",
              "    <tr>\n",
              "      <th>0</th>\n",
              "      <td>node</td>\n",
              "      <td>185743749</td>\n",
              "      <td>7</td>\n",
              "      <td>2021-05-09 23:14:56+00:00</td>\n",
              "      <td>51.550833</td>\n",
              "      <td>-0.138445</td>\n",
              "      <td>post_box</td>\n",
              "      <td>N/A</td>\n",
              "    </tr>\n",
              "    <tr>\n",
              "      <th>1</th>\n",
              "      <td>node</td>\n",
              "      <td>303198052</td>\n",
              "      <td>3</td>\n",
              "      <td>2021-05-09 23:14:56+00:00</td>\n",
              "      <td>51.550804</td>\n",
              "      <td>-0.140390</td>\n",
              "      <td>bicycle_parking</td>\n",
              "      <td>N/A</td>\n",
              "    </tr>\n",
              "    <tr>\n",
              "      <th>2</th>\n",
              "      <td>node</td>\n",
              "      <td>8715968899</td>\n",
              "      <td>1</td>\n",
              "      <td>2021-05-09 23:14:56+00:00</td>\n",
              "      <td>51.550761</td>\n",
              "      <td>-0.135600</td>\n",
              "      <td>public_bookcase</td>\n",
              "      <td>Leighton Road Community Book Swap</td>\n",
              "    </tr>\n",
              "    <tr>\n",
              "      <th>3</th>\n",
              "      <td>node</td>\n",
              "      <td>8716017943</td>\n",
              "      <td>1</td>\n",
              "      <td>2021-05-09 23:14:56+00:00</td>\n",
              "      <td>51.550776</td>\n",
              "      <td>-0.140567</td>\n",
              "      <td>bicycle_parking</td>\n",
              "      <td>N/A</td>\n",
              "    </tr>\n",
              "    <tr>\n",
              "      <th>4</th>\n",
              "      <td>node</td>\n",
              "      <td>8716017952</td>\n",
              "      <td>1</td>\n",
              "      <td>2021-05-09 23:14:56+00:00</td>\n",
              "      <td>51.550088</td>\n",
              "      <td>-0.140706</td>\n",
              "      <td>waste_basket</td>\n",
              "      <td>N/A</td>\n",
              "    </tr>\n",
              "  </tbody>\n",
              "</table>\n",
              "</div>\n",
              "      <button class=\"colab-df-convert\" onclick=\"convertToInteractive('df-eeadf394-6a94-49ad-b0be-f571325f0125')\"\n",
              "              title=\"Convert this dataframe to an interactive table.\"\n",
              "              style=\"display:none;\">\n",
              "        \n",
              "  <svg xmlns=\"http://www.w3.org/2000/svg\" height=\"24px\"viewBox=\"0 0 24 24\"\n",
              "       width=\"24px\">\n",
              "    <path d=\"M0 0h24v24H0V0z\" fill=\"none\"/>\n",
              "    <path d=\"M18.56 5.44l.94 2.06.94-2.06 2.06-.94-2.06-.94-.94-2.06-.94 2.06-2.06.94zm-11 1L8.5 8.5l.94-2.06 2.06-.94-2.06-.94L8.5 2.5l-.94 2.06-2.06.94zm10 10l.94 2.06.94-2.06 2.06-.94-2.06-.94-.94-2.06-.94 2.06-2.06.94z\"/><path d=\"M17.41 7.96l-1.37-1.37c-.4-.4-.92-.59-1.43-.59-.52 0-1.04.2-1.43.59L10.3 9.45l-7.72 7.72c-.78.78-.78 2.05 0 2.83L4 21.41c.39.39.9.59 1.41.59.51 0 1.02-.2 1.41-.59l7.78-7.78 2.81-2.81c.8-.78.8-2.07 0-2.86zM5.41 20L4 18.59l7.72-7.72 1.47 1.35L5.41 20z\"/>\n",
              "  </svg>\n",
              "      </button>\n",
              "      \n",
              "  <style>\n",
              "    .colab-df-container {\n",
              "      display:flex;\n",
              "      flex-wrap:wrap;\n",
              "      gap: 12px;\n",
              "    }\n",
              "\n",
              "    .colab-df-convert {\n",
              "      background-color: #E8F0FE;\n",
              "      border: none;\n",
              "      border-radius: 50%;\n",
              "      cursor: pointer;\n",
              "      display: none;\n",
              "      fill: #1967D2;\n",
              "      height: 32px;\n",
              "      padding: 0 0 0 0;\n",
              "      width: 32px;\n",
              "    }\n",
              "\n",
              "    .colab-df-convert:hover {\n",
              "      background-color: #E2EBFA;\n",
              "      box-shadow: 0px 1px 2px rgba(60, 64, 67, 0.3), 0px 1px 3px 1px rgba(60, 64, 67, 0.15);\n",
              "      fill: #174EA6;\n",
              "    }\n",
              "\n",
              "    [theme=dark] .colab-df-convert {\n",
              "      background-color: #3B4455;\n",
              "      fill: #D2E3FC;\n",
              "    }\n",
              "\n",
              "    [theme=dark] .colab-df-convert:hover {\n",
              "      background-color: #434B5C;\n",
              "      box-shadow: 0px 1px 3px 1px rgba(0, 0, 0, 0.15);\n",
              "      filter: drop-shadow(0px 1px 2px rgba(0, 0, 0, 0.3));\n",
              "      fill: #FFFFFF;\n",
              "    }\n",
              "  </style>\n",
              "\n",
              "      <script>\n",
              "        const buttonEl =\n",
              "          document.querySelector('#df-eeadf394-6a94-49ad-b0be-f571325f0125 button.colab-df-convert');\n",
              "        buttonEl.style.display =\n",
              "          google.colab.kernel.accessAllowed ? 'block' : 'none';\n",
              "\n",
              "        async function convertToInteractive(key) {\n",
              "          const element = document.querySelector('#df-eeadf394-6a94-49ad-b0be-f571325f0125');\n",
              "          const dataTable =\n",
              "            await google.colab.kernel.invokeFunction('convertToInteractive',\n",
              "                                                     [key], {});\n",
              "          if (!dataTable) return;\n",
              "\n",
              "          const docLinkHtml = 'Like what you see? Visit the ' +\n",
              "            '<a target=\"_blank\" href=https://colab.research.google.com/notebooks/data_table.ipynb>data table notebook</a>'\n",
              "            + ' to learn more about interactive tables.';\n",
              "          element.innerHTML = '';\n",
              "          dataTable['output_type'] = 'display_data';\n",
              "          await google.colab.output.renderOutput(dataTable, element);\n",
              "          const docLink = document.createElement('div');\n",
              "          docLink.innerHTML = docLinkHtml;\n",
              "          element.appendChild(docLink);\n",
              "        }\n",
              "      </script>\n",
              "    </div>\n",
              "  </div>\n",
              "  "
            ]
          },
          "metadata": {},
          "execution_count": 9
        }
      ]
    },
    {
      "cell_type": "code",
      "source": [
        "elements.to_csv(\"./gdrive/MyDrive/Target Folder/London_Extracted.csv\",header = False)"
      ],
      "metadata": {
        "id": "9ywO6-2c_RRu"
      },
      "execution_count": 10,
      "outputs": []
    }
  ]
}
