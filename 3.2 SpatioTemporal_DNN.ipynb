{
  "nbformat": 4,
  "nbformat_minor": 0,
  "metadata": {
    "colab": {
      "name": "SpatioTemporal DNN.ipynb",
      "provenance": []
    },
    "kernelspec": {
      "name": "python3",
      "display_name": "Python 3"
    },
    "language_info": {
      "name": "python"
    }
  },
  "cells": [
    {
      "cell_type": "markdown",
      "metadata": {
        "id": "CeNOIGFeSw-W"
      },
      "source": [
        "# Setting"
      ]
    },
    {
      "cell_type": "code",
      "metadata": {
        "colab": {
          "base_uri": "https://localhost:8080/"
        },
        "id": "hMwly9aKq9QB",
        "outputId": "1bf5bb45-b7f7-419b-bfbb-3cb018e63a5c"
      },
      "source": [
        "from google.colab import drive\n",
        "drive.mount('/content/gdrive/')"
      ],
      "execution_count": null,
      "outputs": [
        {
          "output_type": "stream",
          "text": [
            "Mounted at /content/gdrive/\n"
          ],
          "name": "stdout"
        }
      ]
    },
    {
      "cell_type": "code",
      "metadata": {
        "id": "DI7EwyfHrCVR"
      },
      "source": [
        "import pandas as pd\n",
        "import numpy as np\n",
        "import datetime as dt\n",
        "import math\n",
        "import scipy.stats as sp\n",
        "import matplotlib.pyplot as plt\n",
        "from pandas.tseries.offsets import MonthEnd\n",
        "from pandas.tseries.offsets import MonthBegin"
      ],
      "execution_count": null,
      "outputs": []
    },
    {
      "cell_type": "markdown",
      "metadata": {
        "id": "BU-okSusrMNh"
      },
      "source": [
        "# Monthly Data for DL"
      ]
    },
    {
      "cell_type": "code",
      "metadata": {
        "id": "PbOr-6q1rYq1"
      },
      "source": [
        "new_data = pd.read_csv(\"./gdrive/MyDrive/COMP0158/DL/London_new_data_for_DL.csv\")\n",
        "update_data = pd.read_csv(\"./gdrive/MyDrive/COMP0158/DL/London_update_data_for_DL.csv\")"
      ],
      "execution_count": null,
      "outputs": []
    },
    {
      "cell_type": "code",
      "metadata": {
        "colab": {
          "base_uri": "https://localhost:8080/"
        },
        "id": "6HWTOZZdxGgX",
        "outputId": "b2da38ab-7cbc-4e3d-f467-8a471229932f"
      },
      "source": [
        "df_mini_new_data = new_data[['bame_rate', 'population',\n",
        "                          'population_density', 'median_house_price', 'mean_age', 'median_age',\n",
        "                          'employment_rate', 'properties_sold', 'number_of_jobs_in_area',\n",
        "                          'median_household_income_estimate', 'imd_score', 'dist_to_centre',\n",
        "                          'self_reinforcement', 'sc_max', 'sc_avg', 'Year', 'Month', 'new_rate']]\n",
        "\n",
        "df_mini_new_data[\"label\"] = 0\n",
        "df_mini_new_data.loc[df_mini_new_data[\"new_rate\"]>0, \"label\"] = 1\n",
        "\n",
        "mini_new_data = df_mini_new_data.to_numpy()\n",
        "\n",
        "df_mini_update_data = update_data[['bame_rate', 'population',\n",
        "                                'population_density', 'median_house_price', 'mean_age', 'median_age',\n",
        "                                'employment_rate', 'properties_sold', 'number_of_jobs_in_area',\n",
        "                                'median_household_income_estimate', 'imd_score', 'dist_to_centre',\n",
        "                                'self_reinforcement', 'sc_max', 'sc_avg', 'Year', 'Month', 'update_rate']]\n",
        "\n",
        "df_mini_update_data[\"label\"] = 0\n",
        "df_mini_update_data.loc[df_mini_update_data[\"update_rate\"]>0, \"label\"] = 1\n",
        "\n",
        "mini_update_data = df_mini_update_data.to_numpy()"
      ],
      "execution_count": null,
      "outputs": [
        {
          "output_type": "stream",
          "text": [
            "/usr/local/lib/python3.7/dist-packages/ipykernel_launcher.py:7: SettingWithCopyWarning: \n",
            "A value is trying to be set on a copy of a slice from a DataFrame.\n",
            "Try using .loc[row_indexer,col_indexer] = value instead\n",
            "\n",
            "See the caveats in the documentation: https://pandas.pydata.org/pandas-docs/stable/user_guide/indexing.html#returning-a-view-versus-a-copy\n",
            "  import sys\n",
            "/usr/local/lib/python3.7/dist-packages/pandas/core/indexing.py:1763: SettingWithCopyWarning: \n",
            "A value is trying to be set on a copy of a slice from a DataFrame.\n",
            "Try using .loc[row_indexer,col_indexer] = value instead\n",
            "\n",
            "See the caveats in the documentation: https://pandas.pydata.org/pandas-docs/stable/user_guide/indexing.html#returning-a-view-versus-a-copy\n",
            "  isetter(loc, value)\n",
            "/usr/local/lib/python3.7/dist-packages/ipykernel_launcher.py:18: SettingWithCopyWarning: \n",
            "A value is trying to be set on a copy of a slice from a DataFrame.\n",
            "Try using .loc[row_indexer,col_indexer] = value instead\n",
            "\n",
            "See the caveats in the documentation: https://pandas.pydata.org/pandas-docs/stable/user_guide/indexing.html#returning-a-view-versus-a-copy\n",
            "/usr/local/lib/python3.7/dist-packages/pandas/core/indexing.py:1763: SettingWithCopyWarning: \n",
            "A value is trying to be set on a copy of a slice from a DataFrame.\n",
            "Try using .loc[row_indexer,col_indexer] = value instead\n",
            "\n",
            "See the caveats in the documentation: https://pandas.pydata.org/pandas-docs/stable/user_guide/indexing.html#returning-a-view-versus-a-copy\n",
            "  isetter(loc, value)\n"
          ],
          "name": "stderr"
        }
      ]
    },
    {
      "cell_type": "code",
      "metadata": {
        "colab": {
          "base_uri": "https://localhost:8080/"
        },
        "id": "mI43b4_y3_IM",
        "outputId": "d29b7c9c-4449-4e26-86f7-414cc0dcf72f"
      },
      "source": [
        "df_mini_new_data = new_data[['bame_rate', 'population',\n",
        "                          'population_density', 'median_house_price', 'mean_age', 'median_age',\n",
        "                          'employment_rate', 'properties_sold', 'number_of_jobs_in_area',\n",
        "                          'median_household_income_estimate', 'imd_score', 'dist_to_centre',\n",
        "                          'self_reinforcement', 'sc_max', 'sc_avg', 'Year', 'Month', 'new_rate']]\n",
        "\n",
        "df_mini_new_data[\"label\"] = 0\n",
        "df_mini_new_data.loc[df_mini_new_data[\"new_rate\"]>1/12, \"label\"] = 1\n",
        "\n",
        "mini_new_data = df_mini_new_data.to_numpy()\n",
        "\n",
        "df_mini_update_data = update_data[['bame_rate', 'population',\n",
        "                                'population_density', 'median_house_price', 'mean_age', 'median_age',\n",
        "                                'employment_rate', 'properties_sold', 'number_of_jobs_in_area',\n",
        "                                'median_household_income_estimate', 'imd_score', 'dist_to_centre',\n",
        "                                'self_reinforcement', 'sc_max', 'sc_avg', 'Year', 'Month', 'update_rate']]\n",
        "\n",
        "df_mini_update_data[\"label\"] = 0\n",
        "df_mini_update_data.loc[df_mini_update_data[\"update_rate\"]>1/12, \"label\"] = 1\n",
        "\n",
        "mini_update_data = df_mini_update_data.to_numpy()"
      ],
      "execution_count": null,
      "outputs": [
        {
          "output_type": "stream",
          "text": [
            "/usr/local/lib/python3.7/dist-packages/ipykernel_launcher.py:7: SettingWithCopyWarning: \n",
            "A value is trying to be set on a copy of a slice from a DataFrame.\n",
            "Try using .loc[row_indexer,col_indexer] = value instead\n",
            "\n",
            "See the caveats in the documentation: https://pandas.pydata.org/pandas-docs/stable/user_guide/indexing.html#returning-a-view-versus-a-copy\n",
            "  import sys\n",
            "/usr/local/lib/python3.7/dist-packages/pandas/core/indexing.py:1763: SettingWithCopyWarning: \n",
            "A value is trying to be set on a copy of a slice from a DataFrame.\n",
            "Try using .loc[row_indexer,col_indexer] = value instead\n",
            "\n",
            "See the caveats in the documentation: https://pandas.pydata.org/pandas-docs/stable/user_guide/indexing.html#returning-a-view-versus-a-copy\n",
            "  isetter(loc, value)\n",
            "/usr/local/lib/python3.7/dist-packages/ipykernel_launcher.py:18: SettingWithCopyWarning: \n",
            "A value is trying to be set on a copy of a slice from a DataFrame.\n",
            "Try using .loc[row_indexer,col_indexer] = value instead\n",
            "\n",
            "See the caveats in the documentation: https://pandas.pydata.org/pandas-docs/stable/user_guide/indexing.html#returning-a-view-versus-a-copy\n",
            "/usr/local/lib/python3.7/dist-packages/pandas/core/indexing.py:1763: SettingWithCopyWarning: \n",
            "A value is trying to be set on a copy of a slice from a DataFrame.\n",
            "Try using .loc[row_indexer,col_indexer] = value instead\n",
            "\n",
            "See the caveats in the documentation: https://pandas.pydata.org/pandas-docs/stable/user_guide/indexing.html#returning-a-view-versus-a-copy\n",
            "  isetter(loc, value)\n"
          ],
          "name": "stderr"
        }
      ]
    },
    {
      "cell_type": "markdown",
      "metadata": {
        "id": "NL4iaDtp3FjR"
      },
      "source": [
        "# Simple MLP using Monthly Data"
      ]
    },
    {
      "cell_type": "code",
      "metadata": {
        "id": "3YwjJzwU3FFy"
      },
      "source": [
        "from numpy import loadtxt\n",
        "from keras.models import Sequential\n",
        "from keras.layers import Dense"
      ],
      "execution_count": null,
      "outputs": []
    },
    {
      "cell_type": "code",
      "metadata": {
        "id": "_XFWKiZK3JSO"
      },
      "source": [
        "# Data Split For New Opening\n",
        "train_X = mini_new_data[:-15000,:-1]\n",
        "train_y = mini_new_data[:-15000,-1]\n",
        "test_X_2 = mini_new_data[-15000:-7500,:-1]\n",
        "test_y_2 = mini_new_data[-15000:-7500,-1]\n",
        "test_X_1 = mini_new_data[-7500:,:-1]\n",
        "test_y_1 = mini_new_data[-7500:,-1]"
      ],
      "execution_count": null,
      "outputs": []
    },
    {
      "cell_type": "code",
      "metadata": {
        "id": "q8cbZ7BI95qz"
      },
      "source": [
        "# Data Split For Updates\n",
        "train_X = mini_update_data[:-15000,:-1]\n",
        "train_y = mini_update_data[:-15000,-1]\n",
        "test_X_2 = mini_update_data[-15000:-7500,:-1]\n",
        "test_y_2 = mini_update_data[-15000:-7500,-1]\n",
        "test_X_1 = mini_update_data[-7500:,:-1]\n",
        "test_y_1 = mini_update_data[-7500:,-1]"
      ],
      "execution_count": null,
      "outputs": []
    },
    {
      "cell_type": "code",
      "metadata": {
        "colab": {
          "base_uri": "https://localhost:8080/"
        },
        "id": "5VZaxCp37uIJ",
        "outputId": "f029b359-d3a7-48e4-eae7-6445ec6e5798"
      },
      "source": [
        "train_X.shape"
      ],
      "execution_count": null,
      "outputs": [
        {
          "output_type": "execute_result",
          "data": {
            "text/plain": [
              "(61875, 18)"
            ]
          },
          "metadata": {
            "tags": []
          },
          "execution_count": 24
        }
      ]
    },
    {
      "cell_type": "code",
      "metadata": {
        "colab": {
          "base_uri": "https://localhost:8080/"
        },
        "id": "HreXizRG4Z-X",
        "outputId": "d1d4248e-95c9-495c-a693-bb749dd3a5b3"
      },
      "source": [
        "# Multilayer Perceptron Using Keras\n",
        "model = Sequential()\n",
        "model.add(Dense(24, input_dim=18, activation='relu'))\n",
        "model.add(Dense(12, activation='relu'))\n",
        "model.add(Dense(1, activation='sigmoid'))\n",
        "# compile the keras model\n",
        "model.compile(loss='binary_crossentropy', optimizer='adam', metrics=['accuracy'])\n",
        "model.fit(train_X, train_y, epochs=150, batch_size=1000,verbose=0)"
      ],
      "execution_count": null,
      "outputs": [
        {
          "output_type": "execute_result",
          "data": {
            "text/plain": [
              "<keras.callbacks.History at 0x7f2cbac504d0>"
            ]
          },
          "metadata": {},
          "execution_count": 82
        }
      ]
    },
    {
      "cell_type": "code",
      "metadata": {
        "colab": {
          "base_uri": "https://localhost:8080/"
        },
        "id": "reh1hKvL8JOH",
        "outputId": "1b4b8e77-c573-4ac6-f533-7effe9af8f54"
      },
      "source": [
        "# evaluate the keras model\n",
        "_, accuracy = model.evaluate(train_X, train_y)\n",
        "print('Accuracy: %.2f' % (accuracy*100))"
      ],
      "execution_count": null,
      "outputs": [
        {
          "output_type": "stream",
          "text": [
            "1700/1700 [==============================] - 2s 1ms/step - loss: 42.1615 - accuracy: 0.8231\n",
            "Accuracy: 82.31\n"
          ],
          "name": "stdout"
        }
      ]
    },
    {
      "cell_type": "code",
      "metadata": {
        "colab": {
          "base_uri": "https://localhost:8080/"
        },
        "id": "Ak81ZKNu8bc-",
        "outputId": "a49f5d95-1cf7-4c86-9827-6b6d585316a2"
      },
      "source": [
        "# evaluate the keras model\n",
        "_, accuracy = model.evaluate(test_X_1, test_y_1)\n",
        "print('Accuracy: %.2f' % (accuracy*100))\n",
        "# evaluate the keras model\n",
        "_, accuracy = model.evaluate(test_X_2, test_y_2)\n",
        "print('Accuracy: %.2f' % (accuracy*100))"
      ],
      "execution_count": null,
      "outputs": [
        {
          "output_type": "stream",
          "text": [
            "235/235 [==============================] - 0s 1ms/step - loss: 55.0181 - accuracy: 0.7269\n",
            "Accuracy: 72.69\n",
            "235/235 [==============================] - 0s 1ms/step - loss: 45.1976 - accuracy: 0.7853\n",
            "Accuracy: 78.53\n"
          ],
          "name": "stdout"
        }
      ]
    },
    {
      "cell_type": "code",
      "metadata": {
        "id": "43-n8p-59hIW"
      },
      "source": [
        "predictions = model.predict_classes(test_X_1)\n",
        "# summarize the first 5 cases\n",
        "for i in range(10):\n",
        "\tprint('%s => %d (expected %d)' % (str(i), predictions[i], test_y_2[i]))"
      ],
      "execution_count": null,
      "outputs": []
    },
    {
      "cell_type": "code",
      "metadata": {
        "colab": {
          "base_uri": "https://localhost:8080/"
        },
        "id": "HcfzhmbhpVXv",
        "outputId": "2f159928-e3f5-4660-820b-778d5ce01561"
      },
      "source": [
        "predictions = model.predict(test_X_1)\n",
        "# summarize the first 5 cases\n",
        "for i in range(10):\n",
        "\tprint('%s => %d (expected %d)' % (str(i), predictions[i], test_y_2[i]))"
      ],
      "execution_count": null,
      "outputs": [
        {
          "output_type": "stream",
          "text": [
            "0 => 0 (expected 0)\n",
            "1 => 0 (expected 0)\n",
            "2 => 0 (expected 0)\n",
            "3 => 0 (expected 0)\n",
            "4 => 0 (expected 0)\n",
            "5 => 0 (expected 0)\n",
            "6 => 0 (expected 0)\n",
            "7 => 0 (expected 0)\n",
            "8 => 0 (expected 0)\n",
            "9 => 0 (expected 0)\n"
          ],
          "name": "stdout"
        }
      ]
    },
    {
      "cell_type": "code",
      "metadata": {
        "id": "55fG9FaPAr_4"
      },
      "source": [
        "# Prediction for pre-pandemic\n",
        "predictions = model.predict(test_X_1)\n",
        "TEMP = pd.DataFrame(test_y_1)\n",
        "TEMP[\"prediction\"] = predictions\n",
        "TEMP.loc[TEMP[\"prediction\"]>=0.5, \"prediction\"] = 1\n",
        "TEMP.loc[TEMP[\"prediction\"]<0.5, \"prediction\"] = 0\n",
        "TEMP.columns = [\"true_label\",\"prediction\"]"
      ],
      "execution_count": null,
      "outputs": []
    },
    {
      "cell_type": "code",
      "metadata": {
        "id": "wkMB6BD2q0OQ"
      },
      "source": [
        "# Prediction for post-pandemic\n",
        "predictions = model.predict(test_X_2)\n",
        "TEMP = pd.DataFrame(test_y_2)\n",
        "TEMP[\"prediction\"] = predictions\n",
        "TEMP.loc[TEMP[\"prediction\"]>=0.5, \"prediction\"] = 1\n",
        "TEMP.loc[TEMP[\"prediction\"]<0.5, \"prediction\"] = 0\n",
        "TEMP.columns = [\"true_label\",\"prediction\"]"
      ],
      "execution_count": null,
      "outputs": []
    },
    {
      "cell_type": "code",
      "metadata": {
        "id": "6CiNd8RpAs52"
      },
      "source": [
        "## Get corresponding TP/TN rates\n",
        "print(len((TEMP[(TEMP[\"true_label\"] == TEMP[\"prediction\"]) & (TEMP[\"true_label\"]==1)]))/len(TEMP[(TEMP[\"true_label\"] ==1)]))\n",
        "print(len((TEMP[(TEMP[\"true_label\"] == TEMP[\"prediction\"]) & (TEMP[\"true_label\"]==0)]))/len(TEMP[(TEMP[\"true_label\"] ==0)]))"
      ],
      "execution_count": null,
      "outputs": []
    }
  ]
}